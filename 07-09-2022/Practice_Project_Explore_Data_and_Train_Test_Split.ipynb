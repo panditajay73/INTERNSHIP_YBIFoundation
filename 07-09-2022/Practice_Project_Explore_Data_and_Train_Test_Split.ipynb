{
  "nbformat": 4,
  "nbformat_minor": 0,
  "metadata": {
    "colab": {
      "provenance": [],
      "collapsed_sections": []
    },
    "kernelspec": {
      "name": "python3",
      "display_name": "Python 3"
    },
    "language_info": {
      "name": "python"
    }
  },
  "cells": [
    {
      "cell_type": "markdown",
      "source": [
        "# **Explore Data and Train Test Split**"
      ],
      "metadata": {
        "id": "ChoPVEz1osV3"
      }
    },
    {
      "cell_type": "markdown",
      "source": [
        "You are required to\n",
        "\n",
        "- Task 1: Import data\n",
        "- Task 2: Explore data\n",
        "- Task 3: Define y and X\n",
        "- Task 4: Split data into train and test sample\n",
        "\n",
        "Dataset 1  to predict survival of passengers on Titanic: https://github.com/ybifoundation/Dataset/raw/main/Titanic.csv\n",
        "\n",
        "Dataset 2 to predict selling price of Headphones on Flipkart : https://github.com/ybifoundation/Dataset/raw/main/Flipkart%20Headphones.csv"
      ],
      "metadata": {
        "id": "n44kyO1oousn"
      }
    },
    {
      "cell_type": "code",
      "execution_count": null,
      "metadata": {
        "id": "H7XdzQfQoe5d"
      },
      "outputs": [],
      "source": []
    },
    {
      "cell_type": "code",
      "source": [],
      "metadata": {
        "id": "Vg7YDWUwotrl"
      },
      "execution_count": null,
      "outputs": []
    }
  ]
}