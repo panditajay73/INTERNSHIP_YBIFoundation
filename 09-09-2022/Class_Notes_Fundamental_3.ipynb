{
  "nbformat": 4,
  "nbformat_minor": 0,
  "metadata": {
    "colab": {
      "provenance": [],
      "collapsed_sections": []
    },
    "kernelspec": {
      "name": "python3",
      "display_name": "Python 3"
    },
    "language_info": {
      "name": "python"
    }
  },
  "cells": [
    {
      "cell_type": "markdown",
      "source": [
        "# **Q. What is Simple & Multiple Linear Regression?**"
      ],
      "metadata": {
        "id": "40byNhiCguIa"
      }
    },
    {
      "cell_type": "markdown",
      "source": [
        "In a multiple linear regression there is more than one independent variable and in a simple linear regression, there is only one independent variable. Thus, linear regression is best to be used only when there is a linear relationship between the independent and a dependent variable"
      ],
      "metadata": {
        "id": "hbi_x0j6g-0H"
      }
    },
    {
      "cell_type": "markdown",
      "source": [
        "![image.png](data:image/png;base64,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)"
      ],
      "metadata": {
        "id": "a6-vIsHBozzj"
      }
    },
    {
      "cell_type": "markdown",
      "source": [
        "# **Q. Regression Predictive Model**"
      ],
      "metadata": {
        "id": "eHmDlDEPy79T"
      }
    },
    {
      "cell_type": "code",
      "source": [
        "# Step 1 : import library\n",
        "import pandas as pd"
      ],
      "metadata": {
        "id": "fVK5A-wQy7WP"
      },
      "execution_count": null,
      "outputs": []
    },
    {
      "cell_type": "code",
      "source": [
        "# Step 2 : import data\n",
        "salary =pd.read_csv('https://github.com/ybifoundation/Dataset/raw/main/Salary%20Data.csv')"
      ],
      "metadata": {
        "id": "MJQPRsu5zDQf"
      },
      "execution_count": null,
      "outputs": []
    },
    {
      "cell_type": "code",
      "source": [
        "# Step 3 : define y and X"
      ],
      "metadata": {
        "id": "7OxOGZW3zFNp"
      },
      "execution_count": null,
      "outputs": []
    },
    {
      "cell_type": "code",
      "source": [
        "salary.columns"
      ],
      "metadata": {
        "id": "hL57V8aZpLvD",
        "colab": {
          "base_uri": "https://localhost:8080/"
        },
        "outputId": "64fe6c32-a1f3-465e-b1e7-492256239f37"
      },
      "execution_count": null,
      "outputs": [
        {
          "output_type": "execute_result",
          "data": {
            "text/plain": [
              "Index(['Experience Years', 'Salary'], dtype='object')"
            ]
          },
          "metadata": {},
          "execution_count": 16
        }
      ]
    },
    {
      "cell_type": "code",
      "source": [
        "y = salary['Salary']"
      ],
      "metadata": {
        "id": "fPrIG1WQpCAK"
      },
      "execution_count": null,
      "outputs": []
    },
    {
      "cell_type": "code",
      "source": [
        "X = salary[['Experience Years']]"
      ],
      "metadata": {
        "id": "oc3snudMpCHi"
      },
      "execution_count": null,
      "outputs": []
    },
    {
      "cell_type": "code",
      "source": [
        "# Step 4 : train test split\n",
        "from sklearn.model_selection import train_test_split\n",
        "X_train, X_test, y_train, y_test = train_test_split(X,y, train_size=0.7, random_state=2529)"
      ],
      "metadata": {
        "id": "IiWfw8UwzFRA"
      },
      "execution_count": null,
      "outputs": []
    },
    {
      "cell_type": "code",
      "source": [
        "# check shape of train and test sample\n",
        "X_train.shape, X_test.shape, y_train.shape, y_test.shape"
      ],
      "metadata": {
        "colab": {
          "base_uri": "https://localhost:8080/"
        },
        "outputId": "2ff41aca-b3ba-4fd5-9bcc-fa812c066131",
        "id": "KV7ZjtFYpPV3"
      },
      "execution_count": null,
      "outputs": [
        {
          "output_type": "execute_result",
          "data": {
            "text/plain": [
              "((28, 1), (12, 1), (28,), (12,))"
            ]
          },
          "metadata": {},
          "execution_count": 22
        }
      ]
    },
    {
      "cell_type": "code",
      "source": [
        "# Step 5 : select model\n",
        "from sklearn.linear_model import LinearRegression\n",
        "model = LinearRegression()"
      ],
      "metadata": {
        "id": "wFrr01gczFUC"
      },
      "execution_count": null,
      "outputs": []
    },
    {
      "cell_type": "code",
      "source": [
        "# Step 6 : train or fit model\n",
        "model.fit(X_train,y_train)"
      ],
      "metadata": {
        "id": "H_u0yYWwzFXU",
        "colab": {
          "base_uri": "https://localhost:8080/"
        },
        "outputId": "7470ba63-9414-4627-9be1-6175712c1279"
      },
      "execution_count": null,
      "outputs": [
        {
          "output_type": "execute_result",
          "data": {
            "text/plain": [
              "LinearRegression()"
            ]
          },
          "metadata": {},
          "execution_count": 24
        }
      ]
    },
    {
      "cell_type": "code",
      "source": [
        "# Step 7 : predict model\n",
        "y_pred=model.predict(X_test)"
      ],
      "metadata": {
        "id": "vjg625ivzOFF"
      },
      "execution_count": null,
      "outputs": []
    },
    {
      "cell_type": "code",
      "source": [
        "# Step 8 : model accuracy\n",
        "from sklearn.metrics import mean_absolute_error, mean_absolute_percentage_error, mean_squared_error"
      ],
      "metadata": {
        "id": "hVLD3DUDzOIO"
      },
      "execution_count": null,
      "outputs": []
    },
    {
      "cell_type": "code",
      "source": [
        "mean_absolute_error(y_test,y_pred)"
      ],
      "metadata": {
        "id": "baYrB17TtGJ1",
        "colab": {
          "base_uri": "https://localhost:8080/"
        },
        "outputId": "d60e13a3-8f16-4092-90c8-33be4d05d294"
      },
      "execution_count": null,
      "outputs": [
        {
          "output_type": "execute_result",
          "data": {
            "text/plain": [
              "4005.9263101681768"
            ]
          },
          "metadata": {},
          "execution_count": 27
        }
      ]
    },
    {
      "cell_type": "code",
      "source": [
        "mean_absolute_percentage_error(y_test,y_pred)"
      ],
      "metadata": {
        "id": "At9hgrMxtGSU",
        "colab": {
          "base_uri": "https://localhost:8080/"
        },
        "outputId": "594ecc6a-bd8d-4e70-ed1c-6f52b24214c2"
      },
      "execution_count": null,
      "outputs": [
        {
          "output_type": "execute_result",
          "data": {
            "text/plain": [
              "0.06384602996141632"
            ]
          },
          "metadata": {},
          "execution_count": 28
        }
      ]
    },
    {
      "cell_type": "code",
      "source": [
        "mean_squared_error(y_test,y_pred)"
      ],
      "metadata": {
        "id": "XfKmuUl_sd7R",
        "colab": {
          "base_uri": "https://localhost:8080/"
        },
        "outputId": "5c7434d7-0c1b-4805-c018-b4f481a56161"
      },
      "execution_count": null,
      "outputs": [
        {
          "output_type": "execute_result",
          "data": {
            "text/plain": [
              "24141421.671440993"
            ]
          },
          "metadata": {},
          "execution_count": 29
        }
      ]
    }
  ]
}