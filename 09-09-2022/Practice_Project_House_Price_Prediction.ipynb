{
  "nbformat": 4,
  "nbformat_minor": 0,
  "metadata": {
    "colab": {
      "provenance": [],
      "collapsed_sections": []
    },
    "kernelspec": {
      "name": "python3",
      "display_name": "Python 3"
    },
    "language_info": {
      "name": "python"
    }
  },
  "cells": [
    {
      "cell_type": "markdown",
      "source": [
        "# **House Price Prediction**\n",
        "\n",
        "Build a machine learning model to predict the median house prices based on different independent variables.\n",
        "\n",
        "There are 14 attributes in each case of the dataset. They are:\n",
        "\n",
        "- CRIM - per capita crime rate by town\n",
        "- ZN - proportion of residential land zoned for lots over 25,000 sq.ft.\n",
        "- INDUS - proportion of non-retail business acres per town.\n",
        "- CHAS - Charles River dummy variable (1 if tract bounds river; 0 otherwise)\n",
        "- NOX - nitric oxides concentration (parts per 10 million)\n",
        "- RM - average number of rooms per dwelling\n",
        "- AGE - proportion of owner-occupied units built prior to 1940\n",
        "- DIS - weighted distances to five Boston employment centres\n",
        "- RAD - index of accessibility to radial highways\n",
        "- TAX - full-value property-tax rate per dollar 10,000\n",
        "- PTRATIO - pupil-teacher ratio by town\n",
        "- B - 1000(Bk - 0.63)^2 where Bk is the proportion of blacks by town\n",
        "- LSTAT - % lower status of the population\n",
        "- MEDV - Median value of owner-occupied homes in dollar 1000's\n",
        "\n",
        "Dataset : https://github.com/ybifoundation/Dataset/raw/main/Boston.csv"
      ],
      "metadata": {
        "id": "HL0BCLb9zlgP"
      }
    },
    {
      "cell_type": "code",
      "source": [],
      "metadata": {
        "id": "AEltObQmz_p2"
      },
      "execution_count": null,
      "outputs": []
    }
  ]
}