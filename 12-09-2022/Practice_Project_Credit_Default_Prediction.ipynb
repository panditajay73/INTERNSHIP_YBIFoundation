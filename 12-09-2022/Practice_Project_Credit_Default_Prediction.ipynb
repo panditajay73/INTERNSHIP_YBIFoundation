{
  "nbformat": 4,
  "nbformat_minor": 0,
  "metadata": {
    "colab": {
      "provenance": [],
      "collapsed_sections": []
    },
    "kernelspec": {
      "name": "python3",
      "display_name": "Python 3"
    },
    "language_info": {
      "name": "python"
    }
  },
  "cells": [
    {
      "cell_type": "markdown",
      "source": [
        "# **Credit Default Prediction**"
      ],
      "metadata": {
        "id": "I18Jq4byuxJz"
      }
    },
    {
      "cell_type": "markdown",
      "source": [
        "The data set consists of 2000 samples from each of two categories. \n",
        "Five variables are\n",
        "1. Income\t\n",
        "2. Age\t\n",
        "3. Loan\t\n",
        "4. Loan to Income (engineered feature)\n",
        "5. Default\n",
        "\n",
        "Dataset: https://github.com/ybifoundation/Dataset/raw/main/Credit%20Default.csv"
      ],
      "metadata": {
        "id": "aht7je_Au9MN"
      }
    },
    {
      "cell_type": "code",
      "source": [],
      "metadata": {
        "id": "zhimByUbgUce"
      },
      "execution_count": null,
      "outputs": []
    }
  ]
}